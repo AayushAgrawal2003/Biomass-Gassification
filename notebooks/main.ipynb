{
 "cells": [
  {
   "cell_type": "code",
   "execution_count": 1,
   "id": "52049f24",
   "metadata": {},
   "outputs": [
    {
     "name": "stdout",
     "output_type": "stream",
     "text": [
      "Init Plugin\n",
      "Init Graph Optimizer\n",
      "Init Kernel\n"
     ]
    }
   ],
   "source": [
    "import tensorflow\n",
    "import pandas as pd\n",
    "            "
   ]
  },
  {
   "cell_type": "code",
   "execution_count": 2,
   "id": "7454b3b3",
   "metadata": {
    "scrolled": false
   },
   "outputs": [],
   "source": [
    "from keras.models import Sequential\n",
    "from keras.layers import Dropout\n",
    "import numpy as np\n",
    "from keras.layers import Dense\n",
    "from keras.layers import LSTM\n",
    "\n",
    "from matplotlib import pyplot as plt\n",
    "\n",
    "from sklearn.preprocessing import MinMaxScaler\n",
    "\n",
    "import seaborn as sns"
   ]
  },
  {
   "cell_type": "code",
   "execution_count": 3,
   "id": "1433159e",
   "metadata": {},
   "outputs": [],
   "source": [
    "#mention file name\n",
    "#X = open('data/results_mean_T0_Y0')"
   ]
  },
  {
   "cell_type": "code",
   "execution_count": 4,
   "id": "9dc332d2",
   "metadata": {},
   "outputs": [],
   "source": [
    "#data = str(X.read())"
   ]
  },
  {
   "cell_type": "code",
   "execution_count": 5,
   "id": "dc9f7d43",
   "metadata": {},
   "outputs": [],
   "source": [
    "#print(data)"
   ]
  },
  {
   "cell_type": "code",
   "execution_count": 6,
   "id": "a043755a",
   "metadata": {},
   "outputs": [],
   "source": [
    "#data = data.strip().split()"
   ]
  },
  {
   "cell_type": "code",
   "execution_count": null,
   "id": "b6a5ee59",
   "metadata": {},
   "outputs": [],
   "source": []
  },
  {
   "cell_type": "code",
   "execution_count": 13,
   "id": "d9a64926",
   "metadata": {},
   "outputs": [],
   "source": [
    "labels = {'parameters':[\n",
    "    'time',\n",
    " 'npart',\n",
    " 'tres',\n",
    " 'T',\n",
    " 'Z',\n",
    " 'N2a',\n",
    " 'OH',\n",
    " 'H2a',\n",
    " 'H',\n",
    " 'H2Oa',\n",
    " 'COa',\n",
    " 'CO2a',\n",
    " 'HCO',\n",
    " 'CH2O',\n",
    " 'CH2OH',\n",
    " 'CH3',\n",
    " 'CH4a',\n",
    " 'C2H5',\n",
    " 'CH3OH',\n",
    " 'C2H2',\n",
    " 'C2H3',\n",
    " 'CH2CO',\n",
    " 'CH2CHO',\n",
    " 'CH3CHO',\n",
    " 'C2H4',\n",
    " 'C2H6',\n",
    " 'CH3COCH3',\n",
    " 'C3H3',\n",
    " 'A1-C6H6',\n",
    " 'C5H6',\n",
    " 'C5H5',\n",
    " 'C9H8',\n",
    " 'C9H7',\n",
    " 'A1CH2-C7H7',\n",
    " 'A2-C10H8',\n",
    " 'A1OH-C6H6O',\n",
    " 'LVG-C6H10O5',\n",
    " 'HMFU-C6H6O3',\n",
    " 'C3H4O3',\n",
    " 'C5H4O2',\n",
    " 'C2H2O2',\n",
    " 'HAA-C2H4O2',\n",
    " 'XYLOSE-C5H8O',\n",
    " 'C11H12O4',\n",
    " 'C8H10O3',\n",
    " 'COUMARYL-C9H',\n",
    " 'C2H5OH',\n",
    " 'HCOOH',\n",
    " 'CH3O',\n",
    " 'BV2',\n",
    " 'N2b',\n",
    " 'C2',\n",
    " 'C57',\n",
    " 'C34O',\n",
    " 'C1',\n",
    " 'RAD',\n",
    " 'BV1',\n",
    " 'H2b',\n",
    " 'C2O',\n",
    " 'CO2b',\n",
    " 'C57O',\n",
    " 'C34',\n",
    " 'COb',\n",
    " 'R1',\n",
    " 'CH4b',\n",
    " 'RO',\n",
    " 'BV3',\n",
    " 'H2Ob',\n",
    " 'R2'],\n",
    "    'time': \"time_stamps\"}"
   ]
  },
  {
   "cell_type": "code",
   "execution_count": 14,
   "id": "88af5521",
   "metadata": {},
   "outputs": [],
   "source": [
    "def update(arr):           \n",
    "    temp = {\n",
    "        'time':arr[68],\n",
    "     'npart':[arr[0]],\n",
    "     'tres':[arr[1]],\n",
    "     'T':[arr[2]],\n",
    "     'Z':[arr[3]],\n",
    "     'N2a':[arr[4]],         \n",
    "     'OH':[arr[5]],\n",
    "     'H2a':[arr[6]],\n",
    "     'H':[arr[7]],\n",
    "     'H2Oa':[arr[8]],\n",
    "     'COa':[arr[9]],\n",
    "     'CO2a':[arr[10]],\n",
    "     'HCO':[arr[11]],\n",
    "     'CH2O':[arr[12]],\n",
    "     'CH2OH':[arr[13]],\n",
    "     'CH3':[arr[14]],\n",
    "     'CH4a':[arr[15]],\n",
    "     'C2H5':[arr[16]],\n",
    "     'CH3OH':[arr[17]],\n",
    "     'C2H2':[arr[18]],\n",
    "     'C2H3':[arr[19]],\n",
    "     'CH2CO':[arr[20]],\n",
    "     'CH2CHO':[arr[21]],\n",
    "     'CH3CHO':[arr[22]],\n",
    "     'C2H4':[arr[23]],\n",
    "     'C2H6':[arr[24]],\n",
    "     'CH3COCH3':[arr[25]],\n",
    "     'C3H3':[arr[26]],\n",
    "     'A1-C6H6':[arr[27]],\n",
    "     'C5H6':[arr[28]],\n",
    "     'C5H5':[arr[29]],\n",
    "     'C9H8':[arr[30]],\n",
    "     'C9H7':[arr[31]],\n",
    "     'A1CH2-C7H7':[arr[32]],\n",
    "     'A2-C10H8':[arr[33]],\n",
    "     'A1OH-C6H6O':[arr[34]],\n",
    "     'LVG-C6H10O5':[arr[35]],\n",
    "     'HMFU-C6H6O3':[arr[36]],\n",
    "     'C3H4O3':[arr[37]],\n",
    "     'C5H4O2':[arr[38]],\n",
    "     'C2H2O2':[arr[39]],\n",
    "     'HAA-C2H4O2':[arr[40]],\n",
    "     'XYLOSE-C5H8O':[arr[41]],\n",
    "     'C11H12O4':[arr[42]],\n",
    "     'C8H10O3':[arr[43]],\n",
    "     'COUMARYL-C9H':[arr[44]],\n",
    "     'C2H5OH':[arr[45]],\n",
    "     'HCOOH':[arr[46]],\n",
    "     'CH3O':[arr[47]],\n",
    "     'BV2':[arr[48]],\n",
    "     'N2b':[arr[49]],\n",
    "     'C2':[arr[50]],\n",
    "     'C57':[arr[51]],\n",
    "     'C34O':[arr[52]],\n",
    "     'C1':[arr[53]],\n",
    "     'RAD':[arr[54]],\n",
    "     'BV1':[arr[55]],\n",
    "     'H2b':[arr[56]],\n",
    "     'C2O':[arr[57]],\n",
    "     'COb':[arr[58]],\n",
    "     'C57O':[arr[59]],\n",
    "     'C34':[arr[60]],\n",
    "     'CO2b':[arr[61]],\n",
    "     'R1':[arr[62]],\n",
    "     'CH4b':[arr[63]],\n",
    "     'RO':[arr[64]],\n",
    "     'BV3':[arr[65]],\n",
    "     'H2Ob':[arr[66]],\n",
    "     'R2':[arr[67]],\n",
    "    }\n",
    "        \n",
    "        \n",
    "    \n",
    "    \n",
    "    return(temp)\n",
    "    #df.append(new)"
   ]
  },
  {
   "cell_type": "code",
   "execution_count": 15,
   "id": "5e337ee0",
   "metadata": {},
   "outputs": [],
   "source": [
    "def load_dataset(filename):\n",
    "    X = open('data/' + filename)\n",
    "    X = X.read()\n",
    "    data = X.strip().split()\n",
    "    return data"
   ]
  },
  {
   "cell_type": "code",
   "execution_count": 16,
   "id": "351571c9",
   "metadata": {},
   "outputs": [],
   "source": [
    "def prepare_dateset(data):\n",
    "    time_stamps = []\n",
    "    for i in range(len(data)):\n",
    "        if i%69 ==0:\n",
    "            time_stamps.append(data[i])\n",
    "    global labels\n",
    "    df = pd.DataFrame(columns=labels['parameters'])\n",
    "    \n",
    "    \n",
    "    time_stamps = []\n",
    "    store = []\n",
    "    for i in range(len(data)):\n",
    "        if i >= 69:\n",
    "            if i%69 ==0 and i != 69:\n",
    "                time_stamps.append(data[i])\n",
    "                a = store.pop(0)\n",
    "                store.append(a)                  \n",
    "                a = pd.DataFrame(update(store))\n",
    "                df = pd.concat([df, a], ignore_index=True)\n",
    "                store = []\n",
    "\n",
    "            store.append(float(data[i]))\n",
    "    for i in range(69):\n",
    "        df[labels['parameters'][i]] = df[labels['parameters'][i]].astype(float)    \n",
    "    df['new_datastream_check'] = 0 \n",
    "    df.at[0,\"new_datastream_check\"] = 1\n",
    "    \n",
    "    df_training = df.drop(['time'],axis =1)\n",
    "    \n",
    "    #return df_scaled,new_dataset,scaler\n",
    "    return df_training\n",
    "\n",
    "        \n",
    "    \n",
    "            "
   ]
  },
  {
   "cell_type": "code",
   "execution_count": 17,
   "id": "de7f6d3e",
   "metadata": {},
   "outputs": [],
   "source": [
    "def merge_datasets(arr):\n",
    "    df_training = pd.concat(arr)\n",
    "    new_dataset = df_training\n",
    "    m1 = df_training.nunique()\n",
    "    for i in range(68):\n",
    "           if m1[i] == 1:\n",
    "                name = df_training.keys()[i]\n",
    "                #print(name)\n",
    "                new_dataset = new_dataset.drop([name],axis = 1)\n",
    "    scaler = MinMaxScaler()\n",
    "    scaler.fit(new_dataset)\n",
    "    df_scaled = scaler.transform(new_dataset)\n",
    "    return df_scaled,new_dataset,scaler\n",
    "\n",
    "    "
   ]
  },
  {
   "cell_type": "code",
   "execution_count": 18,
   "id": "2b51ae68",
   "metadata": {},
   "outputs": [],
   "source": [
    "def create_data(df_scaled,df_training):\n",
    "    trainX = []\n",
    "    trainY = []\n",
    "    n_future = 1\n",
    "    n_past = 40\n",
    "    temp_count = 0\n",
    "    #print(df_training[\"new_datastream_check\"])\n",
    "    for i in range(n_past, len(df_scaled) - n_future):\n",
    "        if df_training[\"new_datastream_check\"].iloc[i+n_future] == 1:\n",
    "            temp_count = n_past + 1\n",
    "        else:\n",
    "            if temp_count == 0:\n",
    "                trainX.append(df_scaled[i - n_past:i, 0:df_training.shape[1]-1])\n",
    "                trainY.append(df_scaled[i + n_future - 1:i + n_future, 0:df_training.shape[1]-1])\n",
    "            else:\n",
    "                temp_count -= 1\n",
    "\n",
    "    trainX, trainY = np.array(trainX), np.array(trainY)\n",
    "\n",
    "    print('trainX shape == {}.'.format(trainX.shape))\n",
    "    print('trainY shape == {}.'.format(trainY.shape))\n",
    "    \n",
    "    \n",
    "    return trainX, trainY\n",
    "    \n",
    "    "
   ]
  },
  {
   "cell_type": "code",
   "execution_count": 19,
   "id": "8d432107",
   "metadata": {},
   "outputs": [],
   "source": [
    "def create_model(trainX,trainY):\n",
    "    model = Sequential()\n",
    "    model.add(LSTM(64, activation='relu', input_shape=(trainX.shape[1], trainX.shape[2]), return_sequences=True))\n",
    "    model.add(LSTM(32, activation='relu', return_sequences=False))\n",
    "    model.add(Dropout(0.2))\n",
    "    model.add(Dense(trainY.shape[2]))\n",
    "    model.compile(optimizer='adam', loss='mse')\n",
    "    model.summary()\n",
    "    return model\n"
   ]
  },
  {
   "cell_type": "code",
   "execution_count": null,
   "id": "d05498eb",
   "metadata": {},
   "outputs": [],
   "source": []
  },
  {
   "cell_type": "code",
   "execution_count": 21,
   "id": "ce8e2a8f",
   "metadata": {},
   "outputs": [],
   "source": [
    "array_of_datasets = []\n",
    "array_final = []"
   ]
  },
  {
   "cell_type": "code",
   "execution_count": 1,
   "id": "40034e85",
   "metadata": {},
   "outputs": [
    {
     "ename": "NameError",
     "evalue": "name 'array_of_datasets' is not defined",
     "output_type": "error",
     "traceback": [
      "\u001b[0;31m---------------------------------------------------------------------------\u001b[0m",
      "\u001b[0;31mNameError\u001b[0m                                 Traceback (most recent call last)",
      "Input \u001b[0;32mIn [1]\u001b[0m, in \u001b[0;36m<module>\u001b[0;34m\u001b[0m\n\u001b[1;32m      1\u001b[0m \u001b[38;5;28;01mfor\u001b[39;00m i \u001b[38;5;129;01min\u001b[39;00m \u001b[38;5;28mrange\u001b[39m(\u001b[38;5;241m300\u001b[39m):\n\u001b[1;32m      2\u001b[0m     filename \u001b[38;5;241m=\u001b[39m \u001b[38;5;124m\"\u001b[39m\u001b[38;5;124mresults_mean_T0_Y\u001b[39m\u001b[38;5;124m\"\u001b[39m \u001b[38;5;241m+\u001b[39m \u001b[38;5;28mstr\u001b[39m(i)\n\u001b[0;32m----> 3\u001b[0m     \u001b[43marray_of_datasets\u001b[49m\u001b[38;5;241m.\u001b[39mappend(load_dataset(filename))\n",
      "\u001b[0;31mNameError\u001b[0m: name 'array_of_datasets' is not defined"
     ]
    }
   ],
   "source": [
    "for i in range(300):\n",
    "    filename = \"results_mean_T0_Y\" + str(i)\n",
    "    array_of_datasets.append(load_dataset(filename))"
   ]
  },
  {
   "cell_type": "code",
   "execution_count": null,
   "id": "e753f6cf",
   "metadata": {},
   "outputs": [],
   "source": []
  },
  {
   "cell_type": "code",
   "execution_count": 23,
   "id": "c8cc977d",
   "metadata": {},
   "outputs": [],
   "source": [
    "for i in range(len(array_of_datasets)):\n",
    "    array_final.append(prepare_dateset(array_of_datasets[i]))\n"
   ]
  },
  {
   "cell_type": "code",
   "execution_count": 24,
   "id": "ca532545",
   "metadata": {},
   "outputs": [],
   "source": [
    "test = merge_datasets(array_final)"
   ]
  },
  {
   "cell_type": "code",
   "execution_count": 25,
   "id": "79444bc5",
   "metadata": {},
   "outputs": [
    {
     "data": {
      "text/plain": [
       "(10010, 48)"
      ]
     },
     "execution_count": 25,
     "metadata": {},
     "output_type": "execute_result"
    }
   ],
   "source": [
    "test[0].shape"
   ]
  },
  {
   "cell_type": "code",
   "execution_count": null,
   "id": "17d904f0",
   "metadata": {},
   "outputs": [],
   "source": []
  },
  {
   "cell_type": "code",
   "execution_count": 19,
   "id": "606bdbdb",
   "metadata": {},
   "outputs": [],
   "source": [
    "# a = pd.DataFrame(test[0],index = np.arange(1,10010))\n",
    "# a\n"
   ]
  },
  {
   "cell_type": "code",
   "execution_count": 20,
   "id": "3efc9b7a",
   "metadata": {},
   "outputs": [],
   "source": [
    "# plt.figure(figsize=(20, 100))\n",
    "# for i in range(1,47):   \n",
    "#     plt.subplot(16,3,i)\n",
    "#     sns.scatterplot(data =a,x= a.index,y = a[i-1])\n",
    "    \n",
    "# #plt.show()\n",
    "# plt.savefig('saved_figure.png')\n",
    "# plt.show()"
   ]
  },
  {
   "cell_type": "code",
   "execution_count": 26,
   "id": "b00d15aa",
   "metadata": {},
   "outputs": [
    {
     "name": "stdout",
     "output_type": "stream",
     "text": [
      "trainX shape == (9591, 40, 47).\n",
      "trainY shape == (9591, 1, 47).\n",
      "WARNING:tensorflow:Layer lstm_12 will not use cuDNN kernels since it doesn't meet the criteria. It will use a generic GPU kernel as fallback when running on GPU.\n",
      "WARNING:tensorflow:Layer lstm_13 will not use cuDNN kernels since it doesn't meet the criteria. It will use a generic GPU kernel as fallback when running on GPU.\n",
      "Model: \"sequential_7\"\n",
      "_________________________________________________________________\n",
      "Layer (type)                 Output Shape              Param #   \n",
      "=================================================================\n",
      "lstm_12 (LSTM)               (None, 40, 64)            28672     \n",
      "_________________________________________________________________\n",
      "lstm_13 (LSTM)               (None, 32)                12416     \n",
      "_________________________________________________________________\n",
      "dropout (Dropout)            (None, 32)                0         \n",
      "_________________________________________________________________\n",
      "dense (Dense)                (None, 47)                1551      \n",
      "=================================================================\n",
      "Total params: 42,639\n",
      "Trainable params: 42,639\n",
      "Non-trainable params: 0\n",
      "_________________________________________________________________\n"
     ]
    }
   ],
   "source": [
    "#test = prepare_dateset(data)\n",
    "trainX,trainY = create_data(test[0],test[1])\n",
    "model = create_model(trainX,trainY)"
   ]
  },
  {
   "cell_type": "code",
   "execution_count": 22,
   "id": "99391504",
   "metadata": {},
   "outputs": [
    {
     "data": {
      "text/plain": [
       "array([[[0.        , 0.        , 0.        , ..., 0.9392268 ,\n",
       "         0.03352383, 0.        ],\n",
       "        [0.41572707, 0.001801  , 0.76306605, ..., 0.92420566,\n",
       "         0.03424911, 0.02844817],\n",
       "        [0.4022506 , 0.00365016, 0.77321506, ..., 0.90967364,\n",
       "         0.03494899, 0.05597882],\n",
       "        ...,\n",
       "        [0.29218582, 0.0781387 , 0.8545131 , ..., 0.61654256,\n",
       "         0.04936996, 0.61203943],\n",
       "        [0.29163551, 0.08033012, 0.8542891 , ..., 0.61231425,\n",
       "         0.04958727, 0.62008217],\n",
       "        [0.29110741, 0.08251958, 0.85400809, ..., 0.60823395,\n",
       "         0.0497961 , 0.62785149]],\n",
       "\n",
       "       [[0.41572707, 0.001801  , 0.76306605, ..., 0.92420566,\n",
       "         0.03424911, 0.02844817],\n",
       "        [0.4022506 , 0.00365016, 0.77321506, ..., 0.90967364,\n",
       "         0.03494899, 0.05597882],\n",
       "        [0.39045962, 0.0055372 , 0.78181648, ..., 0.89561143,\n",
       "         0.03562912, 0.0826181 ],\n",
       "        ...,\n",
       "        [0.29163551, 0.08033012, 0.8542891 , ..., 0.61231425,\n",
       "         0.04958727, 0.62008217],\n",
       "        [0.29110741, 0.08251958, 0.85400809, ..., 0.60823395,\n",
       "         0.0497961 , 0.62785149],\n",
       "        [0.29059905, 0.08470708, 0.85367413, ..., 0.60429525,\n",
       "         0.04999929, 0.63534983]],\n",
       "\n",
       "       [[0.4022506 , 0.00365016, 0.77321506, ..., 0.90967364,\n",
       "         0.03494899, 0.05597882],\n",
       "        [0.39045962, 0.0055372 , 0.78181648, ..., 0.89561143,\n",
       "         0.03562912, 0.0826181 ],\n",
       "        [0.38011722, 0.00745776, 0.78928163, ..., 0.88200617,\n",
       "         0.03628667, 0.10839237],\n",
       "        ...,\n",
       "        [0.29110741, 0.08251958, 0.85400809, ..., 0.60823395,\n",
       "         0.0497961 , 0.62785149],\n",
       "        [0.29059905, 0.08470708, 0.85367413, ..., 0.60429525,\n",
       "         0.04999929, 0.63534983],\n",
       "        [0.29011043, 0.08689132, 0.8532913 , ..., 0.60049169,\n",
       "         0.05019684, 0.64259168]],\n",
       "\n",
       "       ...,\n",
       "\n",
       "       [[0.06803554, 0.97527711, 0.20012829, ..., 0.50764894,\n",
       "         0.06203276, 0.85389749],\n",
       "        [0.06792671, 0.97564942, 0.19986112, ..., 0.5076425 ,\n",
       "         0.06203841, 0.85390233],\n",
       "        [0.06781813, 0.97602827, 0.19959437, ..., 0.50763607,\n",
       "         0.06204123, 0.85390958],\n",
       "        ...,\n",
       "        [0.06413425, 0.98875223, 0.19058691, ..., 0.50741725,\n",
       "         0.06218516, 0.85414187],\n",
       "        [0.06403233, 0.98911148, 0.19033888, ..., 0.50741082,\n",
       "         0.06218798, 0.85414912],\n",
       "        [0.06393041, 0.9894642 , 0.19009127, ..., 0.50740438,\n",
       "         0.06219362, 0.85415396]],\n",
       "\n",
       "       [[0.06792671, 0.97564942, 0.19986112, ..., 0.5076425 ,\n",
       "         0.06203841, 0.85390233],\n",
       "        [0.06781813, 0.97602827, 0.19959437, ..., 0.50763607,\n",
       "         0.06204123, 0.85390958],\n",
       "        [0.06770979, 0.97640058, 0.19932842, ..., 0.50762963,\n",
       "         0.06204688, 0.85391684],\n",
       "        ...,\n",
       "        [0.06403233, 0.98911148, 0.19033888, ..., 0.50741082,\n",
       "         0.06218798, 0.85414912],\n",
       "        [0.06393041, 0.9894642 , 0.19009127, ..., 0.50740438,\n",
       "         0.06219362, 0.85415396],\n",
       "        [0.06382898, 0.98981691, 0.18984406, ..., 0.50739794,\n",
       "         0.06219645, 0.85416122]],\n",
       "\n",
       "       [[0.06781813, 0.97602827, 0.19959437, ..., 0.50763607,\n",
       "         0.06204123, 0.85390958],\n",
       "        [0.06770979, 0.97640058, 0.19932842, ..., 0.50762963,\n",
       "         0.06204688, 0.85391684],\n",
       "        [0.06760146, 0.9767729 , 0.19906248, ..., 0.5076232 ,\n",
       "         0.0620497 , 0.8539241 ],\n",
       "        ...,\n",
       "        [0.06393041, 0.9894642 , 0.19009127, ..., 0.50740438,\n",
       "         0.06219362, 0.85415396],\n",
       "        [0.06382898, 0.98981691, 0.18984406, ..., 0.50739794,\n",
       "         0.06219645, 0.85416122],\n",
       "        [0.06372756, 0.99016963, 0.18959726, ..., 0.50739151,\n",
       "         0.06219927, 0.85416848]]])"
      ]
     },
     "execution_count": 22,
     "metadata": {},
     "output_type": "execute_result"
    }
   ],
   "source": [
    "trainX"
   ]
  },
  {
   "cell_type": "code",
   "execution_count": 23,
   "id": "fdb86e84",
   "metadata": {
    "scrolled": true
   },
   "outputs": [
    {
     "name": "stdout",
     "output_type": "stream",
     "text": [
      "Model: \"sequential\"\n",
      "_________________________________________________________________\n",
      "Layer (type)                 Output Shape              Param #   \n",
      "=================================================================\n",
      "lstm (LSTM)                  (None, 40, 64)            28672     \n",
      "_________________________________________________________________\n",
      "lstm_1 (LSTM)                (None, 32)                12416     \n",
      "_________________________________________________________________\n",
      "dropout (Dropout)            (None, 32)                0         \n",
      "_________________________________________________________________\n",
      "dense (Dense)                (None, 47)                1551      \n",
      "=================================================================\n",
      "Total params: 42,639\n",
      "Trainable params: 42,639\n",
      "Non-trainable params: 0\n",
      "_________________________________________________________________\n"
     ]
    }
   ],
   "source": [
    "model.summary()"
   ]
  },
  {
   "cell_type": "code",
   "execution_count": null,
   "id": "daad2d59",
   "metadata": {},
   "outputs": [
    {
     "name": "stderr",
     "output_type": "stream",
     "text": [
      "2022-10-29 22:04:13.045059: I tensorflow/compiler/mlir/mlir_graph_optimization_pass.cc:176] None of the MLIR Optimization Passes are enabled (registered 2)\n",
      "2022-10-29 22:04:13.063609: W tensorflow/core/platform/profile_utils/cpu_utils.cc:128] Failed to get CPU frequency: 0 Hz\n"
     ]
    },
    {
     "name": "stdout",
     "output_type": "stream",
     "text": [
      "Epoch 1/10\n"
     ]
    },
    {
     "name": "stderr",
     "output_type": "stream",
     "text": [
      "2022-10-29 22:04:30.222889: I tensorflow/core/grappler/optimizers/custom_graph_optimizer_registry.cc:112] Plugin optimizer for device_type GPU is enabled.\n"
     ]
    },
    {
     "name": "stdout",
     "output_type": "stream",
     "text": [
      "  7/540 [..............................] - ETA: 48:58 - loss: 0.2954"
     ]
    }
   ],
   "source": [
    "history = model.fit(trainX, trainY, epochs= 10, batch_size=16, validation_split=0.1, verbose=1)\n"
   ]
  },
  {
   "cell_type": "code",
   "execution_count": null,
   "id": "d3235525",
   "metadata": {},
   "outputs": [],
   "source": [
    "model.save('saved_model/increased_data_and_epochs')"
   ]
  },
  {
   "cell_type": "code",
   "execution_count": null,
   "id": "c3cedf0e",
   "metadata": {},
   "outputs": [],
   "source": [
    "def create_data_prediction(df_scaled,df_training):\n",
    "    trainX = []\n",
    "    trainY = []\n",
    "    n_future = 1\n",
    "    n_past = 20\n",
    "    \n",
    " \n",
    "    for i in range(n_past,n_past+1):\n",
    "        trainX.append(df_scaled[i - n_past:i, 0:df_training.shape[1]-1])\n",
    "        trainY.append(df_scaled[i + n_future - 1:i + n_future, 0:df_training.shape[1]-1])\n",
    "    #print(trainX,trainY)\n",
    "    trainX, trainY = np.array(trainX), np.array(trainY)\n",
    "\n",
    "    print('trainX shape == {}.'.format(trainX.shape))\n",
    "    print('trainY shape == {}.'.format(trainY.shape))\n",
    "    \n",
    "    \n",
    "    return trainX, trainY\n",
    "    \n",
    "    "
   ]
  },
  {
   "cell_type": "code",
   "execution_count": null,
   "id": "87bff0fb",
   "metadata": {},
   "outputs": [],
   "source": [
    "predictX,predictY = create_data_prediction(test[0],test[1])"
   ]
  },
  {
   "cell_type": "code",
   "execution_count": null,
   "id": "06fd2f1f",
   "metadata": {},
   "outputs": [],
   "source": [
    "predictY.shape"
   ]
  },
  {
   "cell_type": "code",
   "execution_count": null,
   "id": "12749280",
   "metadata": {},
   "outputs": [],
   "source": [
    "# val = model.predict(predictX)\n",
    "# check1 = test[2].inverse_transform(val)\n",
    "# check2 = test[2].inverse_transform(predictY[0])\n",
    "# check1 = pd.DataFrame(val)\n",
    "# check2 = pd.DataFrame(predictY[0])"
   ]
  },
  {
   "cell_type": "code",
   "execution_count": null,
   "id": "ffb17b0c",
   "metadata": {},
   "outputs": [],
   "source": [
    "val"
   ]
  },
  {
   "cell_type": "code",
   "execution_count": null,
   "id": "7c52fa59",
   "metadata": {},
   "outputs": [],
   "source": []
  },
  {
   "cell_type": "code",
   "execution_count": null,
   "id": "fd437426",
   "metadata": {},
   "outputs": [],
   "source": [
    "check1\n"
   ]
  },
  {
   "cell_type": "code",
   "execution_count": null,
   "id": "b53e972f",
   "metadata": {},
   "outputs": [],
   "source": [
    "check2"
   ]
  },
  {
   "cell_type": "code",
   "execution_count": null,
   "id": "ff5c75c8",
   "metadata": {},
   "outputs": [],
   "source": [
    "test[1].iloc[971]"
   ]
  },
  {
   "cell_type": "code",
   "execution_count": 12,
   "id": "6c194e75",
   "metadata": {},
   "outputs": [
    {
     "name": "stdout",
     "output_type": "stream",
     "text": [
      "WARNING:tensorflow:Layer lstm_10 will not use cuDNN kernels since it doesn't meet the criteria. It will use a generic GPU kernel as fallback when running on GPU.\n",
      "WARNING:tensorflow:Layer lstm_11 will not use cuDNN kernels since it doesn't meet the criteria. It will use a generic GPU kernel as fallback when running on GPU.\n"
     ]
    },
    {
     "ename": "ValueError",
     "evalue": "Input 0 of layer lstm_11 is incompatible with the layer: expected ndim=3, found ndim=2. Full shape received: (None, 64)",
     "output_type": "error",
     "traceback": [
      "\u001b[0;31m---------------------------------------------------------------------------\u001b[0m",
      "\u001b[0;31mValueError\u001b[0m                                Traceback (most recent call last)",
      "\u001b[0;32m/var/folders/jw/644649297gd0_6hzy4hf6yl00000gn/T/ipykernel_72606/4130520145.py\u001b[0m in \u001b[0;36m<module>\u001b[0;34m\u001b[0m\n\u001b[1;32m      1\u001b[0m \u001b[0mmodel\u001b[0m \u001b[0;34m=\u001b[0m \u001b[0mSequential\u001b[0m\u001b[0;34m(\u001b[0m\u001b[0;34m)\u001b[0m\u001b[0;34m\u001b[0m\u001b[0;34m\u001b[0m\u001b[0m\n\u001b[1;32m      2\u001b[0m \u001b[0mmodel\u001b[0m\u001b[0;34m.\u001b[0m\u001b[0madd\u001b[0m\u001b[0;34m(\u001b[0m\u001b[0mLSTM\u001b[0m\u001b[0;34m(\u001b[0m\u001b[0;36m64\u001b[0m\u001b[0;34m,\u001b[0m \u001b[0mactivation\u001b[0m\u001b[0;34m=\u001b[0m\u001b[0;34m'relu'\u001b[0m\u001b[0;34m,\u001b[0m \u001b[0minput_shape\u001b[0m\u001b[0;34m=\u001b[0m\u001b[0;34m(\u001b[0m\u001b[0;36m1\u001b[0m\u001b[0;34m,\u001b[0m\u001b[0;36m64\u001b[0m\u001b[0;34m)\u001b[0m\u001b[0;34m)\u001b[0m\u001b[0;34m)\u001b[0m\u001b[0;34m\u001b[0m\u001b[0;34m\u001b[0m\u001b[0m\n\u001b[0;32m----> 3\u001b[0;31m \u001b[0mmodel\u001b[0m\u001b[0;34m.\u001b[0m\u001b[0madd\u001b[0m\u001b[0;34m(\u001b[0m\u001b[0mLSTM\u001b[0m\u001b[0;34m(\u001b[0m\u001b[0;36m32\u001b[0m\u001b[0;34m,\u001b[0m \u001b[0mactivation\u001b[0m\u001b[0;34m=\u001b[0m\u001b[0;34m'relu'\u001b[0m\u001b[0;34m,\u001b[0m \u001b[0mreturn_sequences\u001b[0m\u001b[0;34m=\u001b[0m\u001b[0;32mFalse\u001b[0m\u001b[0;34m)\u001b[0m\u001b[0;34m)\u001b[0m\u001b[0;34m\u001b[0m\u001b[0;34m\u001b[0m\u001b[0m\n\u001b[0m\u001b[1;32m      4\u001b[0m \u001b[0mmodel\u001b[0m\u001b[0;34m.\u001b[0m\u001b[0madd\u001b[0m\u001b[0;34m(\u001b[0m\u001b[0mDropout\u001b[0m\u001b[0;34m(\u001b[0m\u001b[0;36m0.2\u001b[0m\u001b[0;34m)\u001b[0m\u001b[0;34m)\u001b[0m\u001b[0;34m\u001b[0m\u001b[0;34m\u001b[0m\u001b[0m\n\u001b[1;32m      5\u001b[0m \u001b[0mmodel\u001b[0m\u001b[0;34m.\u001b[0m\u001b[0madd\u001b[0m\u001b[0;34m(\u001b[0m\u001b[0mDense\u001b[0m\u001b[0;34m(\u001b[0m\u001b[0;36m1\u001b[0m\u001b[0;34m)\u001b[0m\u001b[0;34m)\u001b[0m\u001b[0;34m\u001b[0m\u001b[0;34m\u001b[0m\u001b[0m\n",
      "\u001b[0;32m/opt/homebrew/Caskroom/miniforge/base/envs/tensorflow/lib/python3.9/site-packages/tensorflow/python/training/tracking/base.py\u001b[0m in \u001b[0;36m_method_wrapper\u001b[0;34m(self, *args, **kwargs)\u001b[0m\n\u001b[1;32m    520\u001b[0m     \u001b[0mself\u001b[0m\u001b[0;34m.\u001b[0m\u001b[0m_self_setattr_tracking\u001b[0m \u001b[0;34m=\u001b[0m \u001b[0;32mFalse\u001b[0m  \u001b[0;31m# pylint: disable=protected-access\u001b[0m\u001b[0;34m\u001b[0m\u001b[0;34m\u001b[0m\u001b[0m\n\u001b[1;32m    521\u001b[0m     \u001b[0;32mtry\u001b[0m\u001b[0;34m:\u001b[0m\u001b[0;34m\u001b[0m\u001b[0;34m\u001b[0m\u001b[0m\n\u001b[0;32m--> 522\u001b[0;31m       \u001b[0mresult\u001b[0m \u001b[0;34m=\u001b[0m \u001b[0mmethod\u001b[0m\u001b[0;34m(\u001b[0m\u001b[0mself\u001b[0m\u001b[0;34m,\u001b[0m \u001b[0;34m*\u001b[0m\u001b[0margs\u001b[0m\u001b[0;34m,\u001b[0m \u001b[0;34m**\u001b[0m\u001b[0mkwargs\u001b[0m\u001b[0;34m)\u001b[0m\u001b[0;34m\u001b[0m\u001b[0;34m\u001b[0m\u001b[0m\n\u001b[0m\u001b[1;32m    523\u001b[0m     \u001b[0;32mfinally\u001b[0m\u001b[0;34m:\u001b[0m\u001b[0;34m\u001b[0m\u001b[0;34m\u001b[0m\u001b[0m\n\u001b[1;32m    524\u001b[0m       \u001b[0mself\u001b[0m\u001b[0;34m.\u001b[0m\u001b[0m_self_setattr_tracking\u001b[0m \u001b[0;34m=\u001b[0m \u001b[0mprevious_value\u001b[0m  \u001b[0;31m# pylint: disable=protected-access\u001b[0m\u001b[0;34m\u001b[0m\u001b[0;34m\u001b[0m\u001b[0m\n",
      "\u001b[0;32m/opt/homebrew/Caskroom/miniforge/base/envs/tensorflow/lib/python3.9/site-packages/keras/engine/sequential.py\u001b[0m in \u001b[0;36madd\u001b[0;34m(self, layer)\u001b[0m\n\u001b[1;32m    221\u001b[0m       \u001b[0;31m# If the model is being built continuously on top of an input layer:\u001b[0m\u001b[0;34m\u001b[0m\u001b[0;34m\u001b[0m\u001b[0m\n\u001b[1;32m    222\u001b[0m       \u001b[0;31m# refresh its output.\u001b[0m\u001b[0;34m\u001b[0m\u001b[0;34m\u001b[0m\u001b[0m\n\u001b[0;32m--> 223\u001b[0;31m       \u001b[0moutput_tensor\u001b[0m \u001b[0;34m=\u001b[0m \u001b[0mlayer\u001b[0m\u001b[0;34m(\u001b[0m\u001b[0mself\u001b[0m\u001b[0;34m.\u001b[0m\u001b[0moutputs\u001b[0m\u001b[0;34m[\u001b[0m\u001b[0;36m0\u001b[0m\u001b[0;34m]\u001b[0m\u001b[0;34m)\u001b[0m\u001b[0;34m\u001b[0m\u001b[0;34m\u001b[0m\u001b[0m\n\u001b[0m\u001b[1;32m    224\u001b[0m       \u001b[0;32mif\u001b[0m \u001b[0mlen\u001b[0m\u001b[0;34m(\u001b[0m\u001b[0mtf\u001b[0m\u001b[0;34m.\u001b[0m\u001b[0mnest\u001b[0m\u001b[0;34m.\u001b[0m\u001b[0mflatten\u001b[0m\u001b[0;34m(\u001b[0m\u001b[0moutput_tensor\u001b[0m\u001b[0;34m)\u001b[0m\u001b[0;34m)\u001b[0m \u001b[0;34m!=\u001b[0m \u001b[0;36m1\u001b[0m\u001b[0;34m:\u001b[0m\u001b[0;34m\u001b[0m\u001b[0;34m\u001b[0m\u001b[0m\n\u001b[1;32m    225\u001b[0m         \u001b[0;32mraise\u001b[0m \u001b[0mValueError\u001b[0m\u001b[0;34m(\u001b[0m\u001b[0mSINGLE_LAYER_OUTPUT_ERROR_MSG\u001b[0m\u001b[0;34m)\u001b[0m\u001b[0;34m\u001b[0m\u001b[0;34m\u001b[0m\u001b[0m\n",
      "\u001b[0;32m/opt/homebrew/Caskroom/miniforge/base/envs/tensorflow/lib/python3.9/site-packages/keras/layers/recurrent.py\u001b[0m in \u001b[0;36m__call__\u001b[0;34m(self, inputs, initial_state, constants, **kwargs)\u001b[0m\n\u001b[1;32m    658\u001b[0m \u001b[0;34m\u001b[0m\u001b[0m\n\u001b[1;32m    659\u001b[0m     \u001b[0;32mif\u001b[0m \u001b[0minitial_state\u001b[0m \u001b[0;32mis\u001b[0m \u001b[0;32mNone\u001b[0m \u001b[0;32mand\u001b[0m \u001b[0mconstants\u001b[0m \u001b[0;32mis\u001b[0m \u001b[0;32mNone\u001b[0m\u001b[0;34m:\u001b[0m\u001b[0;34m\u001b[0m\u001b[0;34m\u001b[0m\u001b[0m\n\u001b[0;32m--> 660\u001b[0;31m       \u001b[0;32mreturn\u001b[0m \u001b[0msuper\u001b[0m\u001b[0;34m(\u001b[0m\u001b[0mRNN\u001b[0m\u001b[0;34m,\u001b[0m \u001b[0mself\u001b[0m\u001b[0;34m)\u001b[0m\u001b[0;34m.\u001b[0m\u001b[0m__call__\u001b[0m\u001b[0;34m(\u001b[0m\u001b[0minputs\u001b[0m\u001b[0;34m,\u001b[0m \u001b[0;34m**\u001b[0m\u001b[0mkwargs\u001b[0m\u001b[0;34m)\u001b[0m\u001b[0;34m\u001b[0m\u001b[0;34m\u001b[0m\u001b[0m\n\u001b[0m\u001b[1;32m    661\u001b[0m \u001b[0;34m\u001b[0m\u001b[0m\n\u001b[1;32m    662\u001b[0m     \u001b[0;31m# If any of `initial_state` or `constants` are specified and are Keras\u001b[0m\u001b[0;34m\u001b[0m\u001b[0;34m\u001b[0m\u001b[0m\n",
      "\u001b[0;32m/opt/homebrew/Caskroom/miniforge/base/envs/tensorflow/lib/python3.9/site-packages/keras/engine/base_layer.py\u001b[0m in \u001b[0;36m__call__\u001b[0;34m(self, *args, **kwargs)\u001b[0m\n\u001b[1;32m    943\u001b[0m     \u001b[0;31m# >> model = tf.keras.Model(inputs, outputs)\u001b[0m\u001b[0;34m\u001b[0m\u001b[0;34m\u001b[0m\u001b[0m\n\u001b[1;32m    944\u001b[0m     \u001b[0;32mif\u001b[0m \u001b[0m_in_functional_construction_mode\u001b[0m\u001b[0;34m(\u001b[0m\u001b[0mself\u001b[0m\u001b[0;34m,\u001b[0m \u001b[0minputs\u001b[0m\u001b[0;34m,\u001b[0m \u001b[0margs\u001b[0m\u001b[0;34m,\u001b[0m \u001b[0mkwargs\u001b[0m\u001b[0;34m,\u001b[0m \u001b[0minput_list\u001b[0m\u001b[0;34m)\u001b[0m\u001b[0;34m:\u001b[0m\u001b[0;34m\u001b[0m\u001b[0;34m\u001b[0m\u001b[0m\n\u001b[0;32m--> 945\u001b[0;31m       return self._functional_construction_call(inputs, args, kwargs,\n\u001b[0m\u001b[1;32m    946\u001b[0m                                                 input_list)\n\u001b[1;32m    947\u001b[0m \u001b[0;34m\u001b[0m\u001b[0m\n",
      "\u001b[0;32m/opt/homebrew/Caskroom/miniforge/base/envs/tensorflow/lib/python3.9/site-packages/keras/engine/base_layer.py\u001b[0m in \u001b[0;36m_functional_construction_call\u001b[0;34m(self, inputs, args, kwargs, input_list)\u001b[0m\n\u001b[1;32m   1081\u001b[0m         layer=self, inputs=inputs, build_graph=True, training=training_value):\n\u001b[1;32m   1082\u001b[0m       \u001b[0;31m# Check input assumptions set after layer building, e.g. input shape.\u001b[0m\u001b[0;34m\u001b[0m\u001b[0;34m\u001b[0m\u001b[0m\n\u001b[0;32m-> 1083\u001b[0;31m       outputs = self._keras_tensor_symbolic_call(\n\u001b[0m\u001b[1;32m   1084\u001b[0m           inputs, input_masks, args, kwargs)\n\u001b[1;32m   1085\u001b[0m \u001b[0;34m\u001b[0m\u001b[0m\n",
      "\u001b[0;32m/opt/homebrew/Caskroom/miniforge/base/envs/tensorflow/lib/python3.9/site-packages/keras/engine/base_layer.py\u001b[0m in \u001b[0;36m_keras_tensor_symbolic_call\u001b[0;34m(self, inputs, input_masks, args, kwargs)\u001b[0m\n\u001b[1;32m    814\u001b[0m       \u001b[0;32mreturn\u001b[0m \u001b[0mtf\u001b[0m\u001b[0;34m.\u001b[0m\u001b[0mnest\u001b[0m\u001b[0;34m.\u001b[0m\u001b[0mmap_structure\u001b[0m\u001b[0;34m(\u001b[0m\u001b[0mkeras_tensor\u001b[0m\u001b[0;34m.\u001b[0m\u001b[0mKerasTensor\u001b[0m\u001b[0;34m,\u001b[0m \u001b[0moutput_signature\u001b[0m\u001b[0;34m)\u001b[0m\u001b[0;34m\u001b[0m\u001b[0;34m\u001b[0m\u001b[0m\n\u001b[1;32m    815\u001b[0m     \u001b[0;32melse\u001b[0m\u001b[0;34m:\u001b[0m\u001b[0;34m\u001b[0m\u001b[0;34m\u001b[0m\u001b[0m\n\u001b[0;32m--> 816\u001b[0;31m       \u001b[0;32mreturn\u001b[0m \u001b[0mself\u001b[0m\u001b[0;34m.\u001b[0m\u001b[0m_infer_output_signature\u001b[0m\u001b[0;34m(\u001b[0m\u001b[0minputs\u001b[0m\u001b[0;34m,\u001b[0m \u001b[0margs\u001b[0m\u001b[0;34m,\u001b[0m \u001b[0mkwargs\u001b[0m\u001b[0;34m,\u001b[0m \u001b[0minput_masks\u001b[0m\u001b[0;34m)\u001b[0m\u001b[0;34m\u001b[0m\u001b[0;34m\u001b[0m\u001b[0m\n\u001b[0m\u001b[1;32m    817\u001b[0m \u001b[0;34m\u001b[0m\u001b[0m\n\u001b[1;32m    818\u001b[0m   \u001b[0;32mdef\u001b[0m \u001b[0m_infer_output_signature\u001b[0m\u001b[0;34m(\u001b[0m\u001b[0mself\u001b[0m\u001b[0;34m,\u001b[0m \u001b[0minputs\u001b[0m\u001b[0;34m,\u001b[0m \u001b[0margs\u001b[0m\u001b[0;34m,\u001b[0m \u001b[0mkwargs\u001b[0m\u001b[0;34m,\u001b[0m \u001b[0minput_masks\u001b[0m\u001b[0;34m)\u001b[0m\u001b[0;34m:\u001b[0m\u001b[0;34m\u001b[0m\u001b[0;34m\u001b[0m\u001b[0m\n",
      "\u001b[0;32m/opt/homebrew/Caskroom/miniforge/base/envs/tensorflow/lib/python3.9/site-packages/keras/engine/base_layer.py\u001b[0m in \u001b[0;36m_infer_output_signature\u001b[0;34m(self, inputs, args, kwargs, input_masks)\u001b[0m\n\u001b[1;32m    852\u001b[0m           \u001b[0;31m# overridden).\u001b[0m\u001b[0;34m\u001b[0m\u001b[0;34m\u001b[0m\u001b[0m\n\u001b[1;32m    853\u001b[0m           \u001b[0;31m# TODO(kaftan): do we maybe_build here, or have we already done it?\u001b[0m\u001b[0;34m\u001b[0m\u001b[0;34m\u001b[0m\u001b[0m\n\u001b[0;32m--> 854\u001b[0;31m           \u001b[0mself\u001b[0m\u001b[0;34m.\u001b[0m\u001b[0m_maybe_build\u001b[0m\u001b[0;34m(\u001b[0m\u001b[0minputs\u001b[0m\u001b[0;34m)\u001b[0m\u001b[0;34m\u001b[0m\u001b[0;34m\u001b[0m\u001b[0m\n\u001b[0m\u001b[1;32m    855\u001b[0m           \u001b[0minputs\u001b[0m \u001b[0;34m=\u001b[0m \u001b[0mself\u001b[0m\u001b[0;34m.\u001b[0m\u001b[0m_maybe_cast_inputs\u001b[0m\u001b[0;34m(\u001b[0m\u001b[0minputs\u001b[0m\u001b[0;34m)\u001b[0m\u001b[0;34m\u001b[0m\u001b[0;34m\u001b[0m\u001b[0m\n\u001b[1;32m    856\u001b[0m           \u001b[0moutputs\u001b[0m \u001b[0;34m=\u001b[0m \u001b[0mcall_fn\u001b[0m\u001b[0;34m(\u001b[0m\u001b[0minputs\u001b[0m\u001b[0;34m,\u001b[0m \u001b[0;34m*\u001b[0m\u001b[0margs\u001b[0m\u001b[0;34m,\u001b[0m \u001b[0;34m**\u001b[0m\u001b[0mkwargs\u001b[0m\u001b[0;34m)\u001b[0m\u001b[0;34m\u001b[0m\u001b[0;34m\u001b[0m\u001b[0m\n",
      "\u001b[0;32m/opt/homebrew/Caskroom/miniforge/base/envs/tensorflow/lib/python3.9/site-packages/keras/engine/base_layer.py\u001b[0m in \u001b[0;36m_maybe_build\u001b[0;34m(self, inputs)\u001b[0m\n\u001b[1;32m   2573\u001b[0m     \u001b[0;31m# Check input assumptions set before layer building, e.g. input rank.\u001b[0m\u001b[0;34m\u001b[0m\u001b[0;34m\u001b[0m\u001b[0m\n\u001b[1;32m   2574\u001b[0m     \u001b[0;32mif\u001b[0m \u001b[0;32mnot\u001b[0m \u001b[0mself\u001b[0m\u001b[0;34m.\u001b[0m\u001b[0mbuilt\u001b[0m\u001b[0;34m:\u001b[0m\u001b[0;34m\u001b[0m\u001b[0;34m\u001b[0m\u001b[0m\n\u001b[0;32m-> 2575\u001b[0;31m       input_spec.assert_input_compatibility(\n\u001b[0m\u001b[1;32m   2576\u001b[0m           self.input_spec, inputs, self.name)\n\u001b[1;32m   2577\u001b[0m       \u001b[0minput_list\u001b[0m \u001b[0;34m=\u001b[0m \u001b[0mtf\u001b[0m\u001b[0;34m.\u001b[0m\u001b[0mnest\u001b[0m\u001b[0;34m.\u001b[0m\u001b[0mflatten\u001b[0m\u001b[0;34m(\u001b[0m\u001b[0minputs\u001b[0m\u001b[0;34m)\u001b[0m\u001b[0;34m\u001b[0m\u001b[0;34m\u001b[0m\u001b[0m\n",
      "\u001b[0;32m/opt/homebrew/Caskroom/miniforge/base/envs/tensorflow/lib/python3.9/site-packages/keras/engine/input_spec.py\u001b[0m in \u001b[0;36massert_input_compatibility\u001b[0;34m(input_spec, inputs, layer_name)\u001b[0m\n\u001b[1;32m    210\u001b[0m       \u001b[0mndim\u001b[0m \u001b[0;34m=\u001b[0m \u001b[0mshape\u001b[0m\u001b[0;34m.\u001b[0m\u001b[0mrank\u001b[0m\u001b[0;34m\u001b[0m\u001b[0;34m\u001b[0m\u001b[0m\n\u001b[1;32m    211\u001b[0m       \u001b[0;32mif\u001b[0m \u001b[0mndim\u001b[0m \u001b[0;34m!=\u001b[0m \u001b[0mspec\u001b[0m\u001b[0;34m.\u001b[0m\u001b[0mndim\u001b[0m\u001b[0;34m:\u001b[0m\u001b[0;34m\u001b[0m\u001b[0;34m\u001b[0m\u001b[0m\n\u001b[0;32m--> 212\u001b[0;31m         raise ValueError('Input ' + str(input_index) + ' of layer ' +\n\u001b[0m\u001b[1;32m    213\u001b[0m                          \u001b[0mlayer_name\u001b[0m \u001b[0;34m+\u001b[0m \u001b[0;34m' is incompatible with the layer: '\u001b[0m\u001b[0;34m\u001b[0m\u001b[0;34m\u001b[0m\u001b[0m\n\u001b[1;32m    214\u001b[0m                          \u001b[0;34m'expected ndim='\u001b[0m \u001b[0;34m+\u001b[0m \u001b[0mstr\u001b[0m\u001b[0;34m(\u001b[0m\u001b[0mspec\u001b[0m\u001b[0;34m.\u001b[0m\u001b[0mndim\u001b[0m\u001b[0;34m)\u001b[0m \u001b[0;34m+\u001b[0m \u001b[0;34m', found ndim='\u001b[0m \u001b[0;34m+\u001b[0m\u001b[0;34m\u001b[0m\u001b[0;34m\u001b[0m\u001b[0m\n",
      "\u001b[0;31mValueError\u001b[0m: Input 0 of layer lstm_11 is incompatible with the layer: expected ndim=3, found ndim=2. Full shape received: (None, 64)"
     ]
    }
   ],
   "source": [
    "model = Sequential()\n",
    "model.add(LSTM(64, activation='relu', input_shape=(1,64)))\n",
    "model.add(LSTM(32, activation='relu', return_sequences=False))\n",
    "model.add(Dropout(0.2))\n",
    "model.add(Dense(1))\n",
    "model.compile(optimizer='adam', loss='mse')\n",
    "model.summary()\n",
    "\n"
   ]
  },
  {
   "cell_type": "code",
   "execution_count": null,
   "id": "0ea0b4e1",
   "metadata": {},
   "outputs": [],
   "source": []
  }
 ],
 "metadata": {
  "kernelspec": {
   "display_name": "Python 3 (ipykernel)",
   "language": "python",
   "name": "python3"
  },
  "language_info": {
   "codemirror_mode": {
    "name": "ipython",
    "version": 3
   },
   "file_extension": ".py",
   "mimetype": "text/x-python",
   "name": "python",
   "nbconvert_exporter": "python",
   "pygments_lexer": "ipython3",
   "version": "3.9.7"
  }
 },
 "nbformat": 4,
 "nbformat_minor": 5
}
